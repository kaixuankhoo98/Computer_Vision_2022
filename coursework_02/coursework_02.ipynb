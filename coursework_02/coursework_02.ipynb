{
 "cells": [
  {
   "cell_type": "markdown",
   "metadata": {},
   "source": [
    "# Coursework 2: Fish Classification\n",
    "\n",
    "Created by Athanasios Vlontzos and Wenjia Bai\n",
    "\n",
    "In this coursework, you will be exploring the application of convolutional neural networks for image classification tasks. As opposed to standard applications such as object or face classification, we will be dealing with a slightly different domain, fish classification for precision fishing.\n",
    "\n",
    "In precision fishing, engineers and fishmen collaborate to extract a wide variety of information about the fish, their species and wellbeing etc. using data from satellite images to drones surveying the fisheries. The goal of precision fishing is to provide the marine industry with information to support their decision making processes.\n",
    "\n",
    "Here your will develop an image classification model that can classify fish species given input images. It consists of two tasks. The first task is to train a model for the following species:\n",
    "- Black Sea Sprat\n",
    "- Gilt-Head Bream\n",
    "- Shrimp\n",
    "- Striped Red Mullet\n",
    "- Trout\n",
    "\n",
    "The second task is to finetune the last layer of the trained model to adapt to some new species, including:\n",
    "- Hourse Mackerel\n",
    "- Red Mullet\n",
    "- Red Sea Bream\n",
    "- Sea Bass\n",
    "\n",
    "You will be working using a large-scale fish dataset [1].\n",
    "\n",
    "[1] O. Ulucan, D. Karakaya and M. Turkan. A large-scale dataset for fish segmentation and classification. Innovations in Intelligent Systems and Applications Conference (ASYU). 2020."
   ]
  },
  {
   "cell_type": "markdown",
   "metadata": {},
   "source": [
    "## Step 0: Download data.\n",
    "\n",
    "[Download the Data from here -- make sure you access it with your Imperial account.](https://imperiallondon-my.sharepoint.com/:f:/g/personal/av2514_ic_ac_uk/EkA9HyXVvgdFoLI4P_IfO1cBO_CsvY1KN4NE8iuD-s_VlA?e=Ip03rF)\n",
    "\n",
    "It is a ~2.5GB file. You can save the images and annotations directories in the same directory as this notebook or somewhere else.\n",
    "\n",
    "The fish dataset contains 9 species of fishes. There are 1,000 images for each fish species, named as %05d.png in each subdirectory."
   ]
  },
  {
   "cell_type": "markdown",
   "metadata": {},
   "source": [
    "## Step 1: Load the data. (15 Points)\n",
    "\n",
    "- Complete the dataset class with the skeleton below.\n",
    "- Add any transforms you feel are necessary.\n",
    "\n",
    "Your class should have at least 3 elements\n",
    "- An ```__init__``` function that sets up your class and all the necessary parameters.\n",
    "- An ```__len__``` function that returns the size of your dataset.\n",
    "- An ```__getitem__``` function that given an index within the limits of the size of the dataset returns the associated image and label in tensor form.\n",
    "\n",
    "You may add more helper functions if you want.\n",
    "\n",
    "In this section we are following the Pytorch [dataset](https://pytorch.org/vision/stable/datasets.html) class structure. You can take inspiration from their documentation."
   ]
  },
  {
   "cell_type": "code",
   "execution_count": 1,
   "metadata": {
    "jupyter": {
     "outputs_hidden": false
    },
    "pycharm": {
     "name": "#%%\n"
    }
   },
   "outputs": [],
   "source": [
    "# Dependencies\n",
    "import pandas as pd\n",
    "from torch.utils.data import Dataset, DataLoader\n",
    "from torchvision import transforms\n",
    "import os\n",
    "from PIL import Image, ImageFile\n",
    "import numpy as np\n",
    "from tqdm import tqdm\n",
    "import torch\n",
    "import torch.nn as nn\n",
    "import torch.nn.functional as F\n",
    "import matplotlib.pyplot as plt\n",
    "import glob\n",
    "import pickle"
   ]
  },
  {
   "cell_type": "code",
   "execution_count": 2,
   "metadata": {
    "jupyter": {
     "outputs_hidden": false
    },
    "pycharm": {
     "name": "#%%\n"
    }
   },
   "outputs": [],
   "source": [
    "# We will start by building a dataset class using the following 5 species of fishes\n",
    "Multiclass_labels_correspondances = {\n",
    "    'Black Sea Sprat': 0,\n",
    "    'Gilt-Head Bream': 1,\n",
    "    'Shrimp': 2,\n",
    "    'Striped Red Mullet': 3,\n",
    "    'Trout': 4\n",
    "}\n",
    "\n",
    "# The 5 species will contain 5,000 images in total.\n",
    "# Let us split the 5,000 images into training (80%) and test (20%) sets\n",
    "def split_train_test(lendata, percentage=0.8):\n",
    "    #### ADD YOUR CODE HERE ####\n",
    "    indexes = np.array(range(0,lendata))\n",
    "    np.random.shuffle(indexes)\n",
    "    train_size = int(lendata * percentage)\n",
    "    \n",
    "    idxs_train = indexes[:train_size]\n",
    "    idxs_test = indexes[train_size:]\n",
    "\n",
    "    return idxs_train, idxs_test\n",
    "\n",
    "LENDATA = 5000\n",
    "np.random.seed(42)\n",
    "idxs_train, idxs_test = split_train_test(LENDATA,0.8)"
   ]
  },
  {
   "cell_type": "code",
   "execution_count": 3,
   "metadata": {},
   "outputs": [],
   "source": [
    "# Implement the dataset class\n",
    "class FishDataset(Dataset):\n",
    "    def __init__(self,\n",
    "                 path_to_images,\n",
    "                 idxs_train,\n",
    "                 idxs_test,\n",
    "                 transform_extra=None,\n",
    "                 img_size=128,\n",
    "                 train=True):\n",
    "        # path_to_images: where you put the fish dataset\n",
    "        # idxs_train: training set indexes\n",
    "        # idxs_test: test set indexes\n",
    "        # transform_extra: extra data transform\n",
    "        # img_size: resize all images to a standard size\n",
    "        # train: return training set or test set\n",
    "        \n",
    "        # Load all the images and their labels\n",
    "        #### ADD YOUR CODE HERE ####\n",
    "        inverted_labels = {v: k for k, v in Multiclass_labels_correspondances.items()} # invert the values and keys\n",
    "        self.filenames_all = []\n",
    "        self.file_labels = []\n",
    "        for value in inverted_labels:\n",
    "            self.filenames_all.extend(glob.glob(path_to_images + \"/\" + inverted_labels[value] + \"/*.png\"))\n",
    "            for i in range(len(glob.glob(path_to_images + \"/\" + inverted_labels[value] + \"/*.png\"))):\n",
    "                self.file_labels.append(value)\n",
    "        \n",
    "        # Resize all images to a standard size\n",
    "        #### ADD YOUR CODE HERE ####\n",
    "        resize = transforms.Compose([transforms.Resize((img_size,img_size))]) # rezize image before storing in array\n",
    "    \n",
    "        self._set = []\n",
    "        self._labels = []\n",
    "        if train:\n",
    "            self._idxs = idxs_train\n",
    "        else:\n",
    "            self._idxs = idxs_test\n",
    "        \n",
    "        self.transform = transforms.ToTensor()\n",
    "        for index in self._idxs:\n",
    "            # train_set contains list of tensors\n",
    "            img = resize(Image.open(self.filenames_all[index]))\n",
    "            img_tensor = self.transform(img)\n",
    "            self._set.append(img_tensor)\n",
    "            # train labels contains list of labels\n",
    "            self._labels.append(self.file_labels[index])\n",
    "        # stack the images into a 4D tensor\n",
    "        self.train_set = torch.stack(self._set)\n",
    "#         for index in idxs_test:\n",
    "#             # test_set contains list of tensors\n",
    "#             img = resize(Image.open(self.filenames_all[index]))\n",
    "#             img_tensor = img_tensor = self.transform(img)\n",
    "#             self.test_set.append(img_tensor)\n",
    "#             # test labels contains list of labels\n",
    "#             self.test_labels.append(self.file_labels[index])\n",
    "#         # stack the images into a 4D tensor\n",
    "#         self.test_set = torch.stack(self.test_set)\n",
    "           \n",
    "        # Extract the images and labels with the specified file indexes      \n",
    "        #### ADD YOUR CODE HERE ####\n",
    "        \n",
    "    def __len__(self):\n",
    "        # Return the number of samples\n",
    "        #### ADD YOUR CODE HERE ####\n",
    "        return self._idxs.size\n",
    "        \n",
    "    def __getitem__(self, idx):\n",
    "        # Get an item using its index\n",
    "        '''\n",
    "        Returns (image,label)\n",
    "        '''\n",
    "        #### ADD YOUR CODE HERE ####\n",
    "        return (self._set[idx], self._labels[idx])"
   ]
  },
  {
   "cell_type": "markdown",
   "metadata": {},
   "source": [
    "## Step 2: Explore the data. (15 Points)\n",
    "\n",
    "### Step 2.1: Data visualisation. (5 points)\n",
    "\n",
    "- Plot data distribution, i.e. the number of samples per class.\n",
    "- Plot 1 sample from each of the five classes in the training set."
   ]
  },
  {
   "cell_type": "code",
   "execution_count": 4,
   "metadata": {
    "jupyter": {
     "outputs_hidden": false
    },
    "pycharm": {
     "name": "#%%\n"
    }
   },
   "outputs": [],
   "source": [
    "# Training set\n",
    "img_path = './Fish_Dataset' # changed to path on my local machine\n",
    "dataset  = FishDataset(img_path, idxs_train, idxs_test, None, img_size=128, train=True)"
   ]
  },
  {
   "cell_type": "code",
   "execution_count": 5,
   "metadata": {},
   "outputs": [],
   "source": [
    "test_set = FishDataset(img_path, idxs_train, idxs_test, None, img_size=128, train=False)"
   ]
  },
  {
   "cell_type": "code",
   "execution_count": 6,
   "metadata": {},
   "outputs": [
    {
     "name": "stdout",
     "output_type": "stream",
     "text": [
      "Train set:\n",
      "Number of 'Black Sea Sprat' samples\n",
      "811\n",
      "Number of 'Gilt-Head Bream' samples\n",
      "809\n",
      "Number of 'Shrimp' samples\n",
      "787\n",
      "Number of 'Striped Red Mullet' samples\n",
      "796\n",
      "Number of 'Trout' samples\n",
      "797\n",
      "\n",
      "Test set:\n",
      "Number of 'Black Sea Sprat' samples\n",
      "189\n",
      "Number of 'Gilt-Head Bream' samples\n",
      "191\n",
      "Number of 'Shrimp' samples\n",
      "213\n",
      "Number of 'Striped Red Mullet' samples\n",
      "204\n",
      "Number of 'Trout' samples\n",
      "203\n"
     ]
    },
    {
     "data": {
      "text/plain": [
       "Text(0.5, 1.0, 'Distribution of classes in test set')"
      ]
     },
     "execution_count": 6,
     "metadata": {},
     "output_type": "execute_result"
    },
    {
     "data": {
      "image/png": "[encoded data removed]",
      "text/plain": [
       "<Figure size 1080x504 with 2 Axes>"
      ]
     },
     "metadata": {
      "needs_background": "light"
     },
     "output_type": "display_data"
    }
   ],
   "source": [
    "def get_number_of_samples(data, cls):\n",
    "    return data.count(cls)\n",
    "\n",
    "# Plot the number of samples per class\n",
    "#### ADD YOUR CODE HERE ####\n",
    "print(\"Train set:\")\n",
    "print(\"Number of 'Black Sea Sprat' samples\")\n",
    "print(get_number_of_samples(dataset._labels, 0))\n",
    "print(\"Number of 'Gilt-Head Bream' samples\")\n",
    "print(get_number_of_samples(dataset._labels, 1))\n",
    "print(\"Number of 'Shrimp' samples\")\n",
    "print(get_number_of_samples(dataset._labels, 2))\n",
    "print(\"Number of 'Striped Red Mullet' samples\")\n",
    "print(get_number_of_samples(dataset._labels, 3))\n",
    "print(\"Number of 'Trout' samples\")\n",
    "print(get_number_of_samples(dataset._labels, 4))\n",
    "\n",
    "print(\"\\nTest set:\")\n",
    "print(\"Number of 'Black Sea Sprat' samples\")\n",
    "print(get_number_of_samples(test_set._labels, 0))\n",
    "print(\"Number of 'Gilt-Head Bream' samples\")\n",
    "print(get_number_of_samples(test_set._labels, 1))\n",
    "print(\"Number of 'Shrimp' samples\")\n",
    "print(get_number_of_samples(test_set._labels, 2))\n",
    "print(\"Number of 'Striped Red Mullet' samples\")\n",
    "print(get_number_of_samples(test_set._labels, 3))\n",
    "print(\"Number of 'Trout' samples\")\n",
    "print(get_number_of_samples(test_set._labels, 4))\n",
    "\n",
    "classes = np.array([0,1,2,3,4])\n",
    "train_distribution = []\n",
    "for i in range(5):\n",
    "    train_distribution.append(get_number_of_samples(dataset._labels, i))\n",
    "train_distribution = np.array(train_distribution)\n",
    "test_distribution = []\n",
    "for i in range(5):\n",
    "    test_distribution.append(get_number_of_samples(test_set._labels, i))\n",
    "test_distribution = np.array(test_distribution)\n",
    "\n",
    "fig, (ax1, ax2) = plt.subplots(1, 2, sharey=True, figsize=(15,7))\n",
    "ax1.bar(classes, train_distribution)\n",
    "ax1.set_title(\"Distribution of classes in train set\")\n",
    "ax2.bar(classes, test_distribution)\n",
    "ax2.set_title(\"Distribution of classes in test set\")"
   ]
  },
  {
   "cell_type": "code",
   "execution_count": 7,
   "metadata": {},
   "outputs": [
    {
     "data": {
      "text/plain": [
       "<matplotlib.image.AxesImage at 0x1dac1cd3c10>"
      ]
     },
     "execution_count": 7,
     "metadata": {},
     "output_type": "execute_result"
    },
    {
     "data": {
      "image/png": "[encoded data removed]",
      "text/plain": [
       "<Figure size 432x288 with 5 Axes>"
      ]
     },
     "metadata": {
      "needs_background": "light"
     },
     "output_type": "display_data"
    }
   ],
   "source": [
    "# Plot 1 sample from each of the five classes in the training set\n",
    "#### ADD YOUR CODE HERE ####\n",
    "image_sprat = dataset.__getitem__(4)\n",
    "image_bream = dataset.__getitem__(0)\n",
    "image_shrimp = dataset.__getitem__(2)\n",
    "image_mullet = dataset.__getitem__(1)\n",
    "image_trout = dataset.__getitem__(12)\n",
    "\n",
    "fig, (ax1, ax2, ax3, ax4, ax5) = plt.subplots(5)\n",
    "fig.suptitle('')\n",
    "ax1.imshow(image_sprat[0].permute(1, 2, 0))\n",
    "ax2.imshow(image_bream[0].permute(1, 2, 0))\n",
    "ax3.imshow(image_shrimp[0].permute(1, 2, 0))\n",
    "ax4.imshow(image_mullet[0].permute(1, 2, 0))\n",
    "ax5.imshow(image_trout[0].permute(1, 2, 0))"
   ]
  },
  {
   "cell_type": "code",
   "execution_count": 8,
   "metadata": {},
   "outputs": [],
   "source": [
    "def save_file(filename, data):\n",
    "    '''\n",
    "    pickles data into a file\n",
    "    '''\n",
    "    pickle.dump(data, open(filename, 'wb'))\n",
    "\n",
    "train_filename = 'train_data.sav'\n",
    "save_file(train_filename, dataset)\n",
    "\n",
    "test_filename = 'test_data.sav'\n",
    "save_file(test_filename, test_set)"
   ]
  },
  {
   "cell_type": "markdown",
   "metadata": {},
   "source": [
    "### Step 2.2: Discussion. (10 points)\n",
    "\n",
    "* Is the dataset balanced?\n",
    "\n",
    "* Can you think of 3 ways to make the dataset balanced if it is not?\n",
    "\n",
    "* Is the dataset already pre-processed? If yes, how?"
   ]
  },
  {
   "cell_type": "markdown",
   "metadata": {},
   "source": [
    "#### ADD YOUR RESPONSE HERE ####\n",
    "- As you can see from the distribution in part 2.1, there is an uneven distribution of each class within the train and test sets. The numbers are close (within the range 787-811 between min and max), so it is relatively well distributed, but not perfectly distributed. If it was a perfectly balanced dataset, we would see exactly 800 of each in the train set, and 200 of each in the test set.\n",
    "- Three possible ways to  make the dataset balanced are:\n",
    "    - Use a larger dataset. If we have more than 5000 data points, the split into train and test is more likely to result in a more even distribution. For example, if we split 50,000 data points, the average will lie much closer to 8,000. \n",
    "    - Split the individual classes before combining them. For example, we can split all 1000 trout pictures into 800 train and 200 test, before combining the 5 train classes and 5 test classes. This way, we are guaranteed an exactly perfect distribution of each class in the train and test set. This method would work better for smaller sample sizes such as ours.\n",
    "    - Another simple solution is to use scikit-learn's _train_test_split_ function, which should automatically divide them into an even distribution.\n",
    "- The dataset is now pre-processed, because we have made every data point the same size image (128x128x3). I have also chosen to return them as tensors in \\_\\_getitem\\_\\_()."
   ]
  },
  {
   "cell_type": "markdown",
   "metadata": {},
   "source": [
    "## Step 3: Multiclass classification. (55 points)\n",
    "In this section we will try to make a multiclass classifier to determine the species of the fish.\n",
    "\n",
    "### Step 3.1: Define the model. (15 points)\n",
    "\n",
    "Design a neural network which consists of a number of convolutional layers and a few fully connected ones at the end.\n",
    "\n",
    "The exact architecture is up to you but you do NOT need to create something complicated. For example, you could design a LeNet insprired network."
   ]
  },
  {
   "cell_type": "code",
   "execution_count": 41,
   "metadata": {},
   "outputs": [],
   "source": [
    "dataset = pickle.load(open(\"train_data.sav\", \"rb\"))\n",
    "test_set = pickle.load(open(\"test_data.sav\", \"rb\"))"
   ]
  },
  {
   "cell_type": "code",
   "execution_count": 8,
   "metadata": {
    "jupyter": {
     "outputs_hidden": false
    },
    "pycharm": {
     "name": "#%%\n"
    }
   },
   "outputs": [],
   "source": [
    "class Net(nn.Module):\n",
    "    def __init__(self, output_dims = 1):\n",
    "        super(Net, self).__init__()\n",
    "        #### ADD YOUR CODE HERE ####\n",
    "        '''\n",
    "        Structure: \n",
    "          input   -- C1 feature maps -- S2 fmaps  -- C3 fmaps -- S4 fmaps -- \n",
    "        128x128x3 --   124x124x6   -- 62x62x6 -- ?x?x3x?  -- ?x?x3x?  -- \n",
    "               5x5 conv            pooling      5x5 conv    pooling     \n",
    "        '''\n",
    "        self.conv1 = nn.Conv2d(3,6,5)  # output: 124x124x6\n",
    "        self.relu1 = nn.ReLU()         # activation function\n",
    "        self.pool1 = nn.MaxPool2d(2)   # 2 stride: 62x62x6\n",
    "        self.conv2 = nn.Conv2d(6,16,5) # output: 58x58x16\n",
    "        self.relu2 = nn.ReLU()         # activation function\n",
    "        self.pool2 = nn.MaxPool2d(2)   # pool : 29x29x16\n",
    "        self.fc1 = nn.Linear(13456,120)  # fully connected\n",
    "        self.relu3 = nn.ReLU()\n",
    "        self.fc2 = nn.Linear(120,84) # fully connected\n",
    "        self.relu4 = nn.ReLU()\n",
    "        self.fc3 = nn.Linear(84,output_dims) # last output has output_dims \n",
    "        self.relu5 = nn.ReLU()\n",
    "        \n",
    "    def forward(self, x):\n",
    "        # Forward propagation\n",
    "        #### ADD YOUR CODE HERE ####\n",
    "        h = self.conv1(x)\n",
    "        h = self.relu1(h)\n",
    "        h = self.pool1(h)\n",
    "        h = self.conv2(h)\n",
    "        h = self.relu2(h)\n",
    "        h = self.pool2(h)\n",
    "        h = h.view(h.shape[0], -1) # to get [batch_size, num_features]\n",
    "        h = self.fc1(h)\n",
    "        h = self.relu3(h)\n",
    "        h = self.fc2(h)\n",
    "        h = self.relu4(h)\n",
    "        h = self.fc3(h)\n",
    "        y = self.relu5(h)\n",
    "        return y\n",
    "\n",
    "# Since most of you use laptops, you may use CPU for training.\n",
    "# If you have a good GPU, you can set this to 'gpu'.\n",
    "device = 'cpu'"
   ]
  },
  {
   "cell_type": "markdown",
   "metadata": {},
   "source": [
    "### Step 3.2: Define the training parameters. (10 points)\n",
    "\n",
    "- Loss function\n",
    "- Optimizer\n",
    "- Learning Rate\n",
    "- Number of iterations\n",
    "- Batch Size\n",
    "- Other relevant hyperparameters"
   ]
  },
  {
   "cell_type": "code",
   "execution_count": 42,
   "metadata": {
    "jupyter": {
     "outputs_hidden": false
    },
    "pycharm": {
     "name": "#%%\n"
    }
   },
   "outputs": [],
   "source": [
    "# Network\n",
    "model = Net(5).to(device)\n",
    "\n",
    "# Loss function\n",
    "criterion = nn.CrossEntropyLoss()\n",
    "\n",
    "# Optimiser and learning rate\n",
    "lr = 0.001\n",
    "optimizer = torch.optim.SGD(model.parameters(), lr=lr, momentum=0.9)\n",
    "\n",
    "# Number of iterations for training\n",
    "epochs = 15\n",
    "\n",
    "# Training batch size\n",
    "train_batch_size = 16\n",
    "\n",
    "# Based on the FishDataset, use the PyTorch DataLoader to load the data during model training\n",
    "train_dataset = dataset\n",
    "train_dataloader = DataLoader(train_dataset, batch_size = train_batch_size)\n",
    "test_dataset = test_set\n",
    "test_dataloader = DataLoader(test_dataset, batch_size = 1000)"
   ]
  },
  {
   "cell_type": "markdown",
   "metadata": {},
   "source": [
    "### Step 3.3: Train the model. (15 points)\n",
    "\n",
    "Complete the training loop."
   ]
  },
  {
   "cell_type": "code",
   "execution_count": 43,
   "metadata": {},
   "outputs": [
    {
     "name": "stdout",
     "output_type": "stream",
     "text": [
      "torch.Size([3, 128, 128])\n",
      "4000\n"
     ]
    }
   ],
   "source": [
    "### Visualizing the shapes and sizes of the dataset ###\n",
    "print(dataset.__getitem__(0)[0].shape)\n",
    "print(dataset.__len__())"
   ]
  },
  {
   "cell_type": "code",
   "execution_count": 11,
   "metadata": {
    "jupyter": {
     "outputs_hidden": false
    },
    "pycharm": {
     "name": "#%%\n"
    }
   },
   "outputs": [
    {
     "name": "stderr",
     "output_type": "stream",
     "text": [
      "  7%|█████▌                                                                             | 1/15 [00:17<04:00, 17.21s/it]"
     ]
    },
    {
     "name": "stdout",
     "output_type": "stream",
     "text": [
      "--- Iteration 1: training loss = 1.6045 ---\n"
     ]
    },
    {
     "name": "stderr",
     "output_type": "stream",
     "text": [
      "\r",
      " 13%|███████████                                                                        | 2/15 [00:34<03:47, 17.47s/it]"
     ]
    },
    {
     "name": "stdout",
     "output_type": "stream",
     "text": [
      "--- Iteration 2: training loss = 1.5107 ---\n"
     ]
    },
    {
     "name": "stderr",
     "output_type": "stream",
     "text": [
      "\r",
      " 20%|████████████████▌                                                                  | 3/15 [00:53<03:38, 18.20s/it]"
     ]
    },
    {
     "name": "stdout",
     "output_type": "stream",
     "text": [
      "--- Iteration 3: training loss = 1.0750 ---\n"
     ]
    },
    {
     "name": "stderr",
     "output_type": "stream",
     "text": [
      "\r",
      " 27%|██████████████████████▏                                                            | 4/15 [01:13<03:23, 18.54s/it]"
     ]
    },
    {
     "name": "stdout",
     "output_type": "stream",
     "text": [
      "--- Iteration 4: training loss = 0.8807 ---\n"
     ]
    },
    {
     "name": "stderr",
     "output_type": "stream",
     "text": [
      "\r",
      " 33%|███████████████████████████▋                                                       | 5/15 [01:31<03:06, 18.67s/it]"
     ]
    },
    {
     "name": "stdout",
     "output_type": "stream",
     "text": [
      "--- Iteration 5: training loss = 0.6506 ---\n"
     ]
    },
    {
     "name": "stderr",
     "output_type": "stream",
     "text": [
      "\r",
      " 40%|█████████████████████████████████▏                                                 | 6/15 [01:50<02:48, 18.75s/it]"
     ]
    },
    {
     "name": "stdout",
     "output_type": "stream",
     "text": [
      "--- Iteration 6: training loss = 0.4591 ---\n"
     ]
    },
    {
     "name": "stderr",
     "output_type": "stream",
     "text": [
      "\r",
      " 47%|██████████████████████████████████████▋                                            | 7/15 [02:09<02:31, 18.89s/it]"
     ]
    },
    {
     "name": "stdout",
     "output_type": "stream",
     "text": [
      "--- Iteration 7: training loss = 0.3101 ---\n"
     ]
    },
    {
     "name": "stderr",
     "output_type": "stream",
     "text": [
      "\r",
      " 53%|████████████████████████████████████████████▎                                      | 8/15 [02:28<02:12, 18.89s/it]"
     ]
    },
    {
     "name": "stdout",
     "output_type": "stream",
     "text": [
      "--- Iteration 8: training loss = 0.2220 ---\n"
     ]
    },
    {
     "name": "stderr",
     "output_type": "stream",
     "text": [
      "\r",
      " 60%|█████████████████████████████████████████████████▊                                 | 9/15 [02:47<01:53, 18.89s/it]"
     ]
    },
    {
     "name": "stdout",
     "output_type": "stream",
     "text": [
      "--- Iteration 9: training loss = 0.1979 ---\n"
     ]
    },
    {
     "name": "stderr",
     "output_type": "stream",
     "text": [
      "\r",
      " 67%|██████████████████████████████████████████████████████▋                           | 10/15 [03:06<01:34, 18.85s/it]"
     ]
    },
    {
     "name": "stdout",
     "output_type": "stream",
     "text": [
      "--- Iteration 10: training loss = 0.1802 ---\n"
     ]
    },
    {
     "name": "stderr",
     "output_type": "stream",
     "text": [
      "\r",
      " 73%|████████████████████████████████████████████████████████████▏                     | 11/15 [03:25<01:15, 18.86s/it]"
     ]
    },
    {
     "name": "stdout",
     "output_type": "stream",
     "text": [
      "--- Iteration 11: training loss = 0.1795 ---\n"
     ]
    },
    {
     "name": "stderr",
     "output_type": "stream",
     "text": [
      "\r",
      " 80%|█████████████████████████████████████████████████████████████████▌                | 12/15 [03:44<00:56, 18.86s/it]"
     ]
    },
    {
     "name": "stdout",
     "output_type": "stream",
     "text": [
      "--- Iteration 12: training loss = 0.0983 ---\n"
     ]
    },
    {
     "name": "stderr",
     "output_type": "stream",
     "text": [
      "\r",
      " 87%|███████████████████████████████████████████████████████████████████████           | 13/15 [04:03<00:37, 18.88s/it]"
     ]
    },
    {
     "name": "stdout",
     "output_type": "stream",
     "text": [
      "--- Iteration 13: training loss = 0.0777 ---\n"
     ]
    },
    {
     "name": "stderr",
     "output_type": "stream",
     "text": [
      "\r",
      " 93%|████████████████████████████████████████████████████████████████████████████▌     | 14/15 [04:22<00:18, 18.93s/it]"
     ]
    },
    {
     "name": "stdout",
     "output_type": "stream",
     "text": [
      "--- Iteration 14: training loss = 0.0714 ---\n"
     ]
    },
    {
     "name": "stderr",
     "output_type": "stream",
     "text": [
      "100%|██████████████████████████████████████████████████████████████████████████████████| 15/15 [04:41<00:00, 18.75s/it]"
     ]
    },
    {
     "name": "stdout",
     "output_type": "stream",
     "text": [
      "--- Iteration 15: training loss = 0.0445 ---\n"
     ]
    },
    {
     "name": "stderr",
     "output_type": "stream",
     "text": [
      "\n"
     ]
    }
   ],
   "source": [
    "for epoch in tqdm(range(epochs)):\n",
    "    model.train()\n",
    "    loss_curve = []\n",
    "    \n",
    "    for images, labels in train_dataloader:\n",
    "        # Get a batch of training data and train the model\n",
    "        #### ADD YOUR CODE HERE ####\n",
    "        \n",
    "        # zero the parameter gradients\n",
    "        optimizer.zero_grad()\n",
    "        \n",
    "        # forward + backward + optimize\n",
    "        outputs = model(images)\n",
    "        loss = criterion(outputs, labels)\n",
    "        loss.backward()\n",
    "        optimizer.step()\n",
    "        \n",
    "        loss_curve += [loss.item()]\n",
    "    print('--- Iteration {0}: training loss = {1:.4f} ---'.format(epoch + 1, np.array(loss_curve).mean()))"
   ]
  },
  {
   "cell_type": "markdown",
   "metadata": {},
   "source": [
    "### Step 3.4: Deploy the trained model onto the test set. (10 points)"
   ]
  },
  {
   "cell_type": "code",
   "execution_count": 12,
   "metadata": {},
   "outputs": [
    {
     "name": "stderr",
     "output_type": "stream",
     "text": [
      "C:\\Users\\Kaixuan Khoo\\AppData\\Local\\Programs\\Python\\Python38\\lib\\site-packages\\torch\\serialization.py:359: UserWarning: Couldn't retrieve source code for container of type Net. It won't be checked for correctness upon loading.\n",
      "  warnings.warn(\"Couldn't retrieve source code for container of \"\n"
     ]
    }
   ],
   "source": [
    "model_save_path = './model_train2.pth'\n",
    "torch.save(model, model_save_path)"
   ]
  },
  {
   "cell_type": "code",
   "execution_count": 44,
   "metadata": {},
   "outputs": [
    {
     "data": {
      "text/plain": [
       "Net(\n",
       "  (conv1): Conv2d(3, 6, kernel_size=(5, 5), stride=(1, 1))\n",
       "  (relu1): ReLU()\n",
       "  (pool1): MaxPool2d(kernel_size=2, stride=2, padding=0, dilation=1, ceil_mode=False)\n",
       "  (conv2): Conv2d(6, 16, kernel_size=(5, 5), stride=(1, 1))\n",
       "  (relu2): ReLU()\n",
       "  (pool2): MaxPool2d(kernel_size=2, stride=2, padding=0, dilation=1, ceil_mode=False)\n",
       "  (fc1): Linear(in_features=13456, out_features=120, bias=True)\n",
       "  (relu3): ReLU()\n",
       "  (fc2): Linear(in_features=120, out_features=84, bias=True)\n",
       "  (relu4): ReLU()\n",
       "  (fc3): Linear(in_features=84, out_features=5, bias=True)\n",
       "  (relu5): ReLU()\n",
       ")"
      ]
     },
     "execution_count": 44,
     "metadata": {},
     "output_type": "execute_result"
    }
   ],
   "source": [
    "model_save_path = './model_train2.pth'\n",
    "model = torch.load(model_save_path)\n",
    "model.eval()"
   ]
  },
  {
   "cell_type": "code",
   "execution_count": 45,
   "metadata": {},
   "outputs": [
    {
     "name": "stdout",
     "output_type": "stream",
     "text": [
      "Accuracy of the network on the 1000 test images: 96.0 %\n"
     ]
    }
   ],
   "source": [
    "# Deploy the model\n",
    "#### ADD YOUR CODE HERE ####\n",
    "## code is combined with accuracy below\n",
    "correct = 0\n",
    "total = 0\n",
    "# modifying these variables for later\n",
    "predicted = 0 \n",
    "images, labels = 0, 0\n",
    "with torch.no_grad():\n",
    "    for data in test_dataloader:\n",
    "        images, labels = data\n",
    "        outputs = model(images)\n",
    "        _, predicted = torch.max(outputs.data, 1)\n",
    "        total += labels.size(0)\n",
    "        correct += (predicted == labels).sum().item()\n",
    "\n",
    "print(f'Accuracy of the network on the 1000 test images: {100. * correct // total} %')"
   ]
  },
  {
   "cell_type": "markdown",
   "metadata": {},
   "source": [
    "### Step 3.5: Evaluate the performance of the model and visualize the confusion matrix. (5 points)\n",
    "\n",
    "You can use sklearns related function."
   ]
  },
  {
   "cell_type": "code",
   "execution_count": 15,
   "metadata": {},
   "outputs": [],
   "source": [
    "from sklearn.metrics import confusion_matrix"
   ]
  },
  {
   "cell_type": "code",
   "execution_count": 16,
   "metadata": {
    "jupyter": {
     "outputs_hidden": false
    },
    "pycharm": {
     "name": "#%%\n"
    }
   },
   "outputs": [
    {
     "name": "stdout",
     "output_type": "stream",
     "text": [
      "{0: 'Black Sea Sprat', 1: 'Gilt-Head Bream', 2: 'Shrimp', 3: 'Striped Red Mullet', 4: 'Trout'}\n",
      "[[182   1   0   6   0]\n",
      " [  0 184   0   3   4]\n",
      " [  0   2 207   3   1]\n",
      " [  0   7   1 196   0]\n",
      " [  0   4   0   0 199]]\n"
     ]
    }
   ],
   "source": [
    "#### ADD YOUR CODE HERE ####\n",
    "classes = {v: k for k, v in Multiclass_labels_correspondances.items()} # invert the values and keys\n",
    "\n",
    "y_true = []\n",
    "for i in range(labels.size()[0]):\n",
    "    y_true.append(labels[i].item())\n",
    "y_pred = []\n",
    "for i in range(predicted.size()[0]):\n",
    "    y_pred.append(predicted[i].item())\n",
    "\n",
    "print(classes)\n",
    "print(confusion_matrix(y_true, y_pred))"
   ]
  },
  {
   "cell_type": "markdown",
   "metadata": {},
   "source": [
    "## Step 4: Finetune your classifier. (15 points)\n",
    "\n",
    "In the previous section, you have built a pretty good classifier for certain species of fish. Now we are going to use this trained classifier and adapt it to classify a new set of species:\n",
    "\n",
    "    'Hourse Mackerel\n",
    "    'Red Mullet',\n",
    "    'Red Sea Bream'\n",
    "    'Sea Bass'\n",
    "\n",
    "### Step 4.1: Set up the data for new species. (2 points)\n",
    "Overwrite the labels correspondances so they only incude the new classes and regenerate the datasets and dataloaders."
   ]
  },
  {
   "cell_type": "code",
   "execution_count": 48,
   "metadata": {},
   "outputs": [],
   "source": [
    "ImageFile.LOAD_TRUNCATED_IMAGES = True\n",
    "# was having an error loading some of the images in this set"
   ]
  },
  {
   "cell_type": "code",
   "execution_count": 49,
   "metadata": {
    "jupyter": {
     "outputs_hidden": false
    },
    "pycharm": {
     "name": "#%%\n"
    }
   },
   "outputs": [],
   "source": [
    "Multiclass_labels_correspondances ={\n",
    "    'Hourse Mackerel': 0,\n",
    "    'Red Mullet': 1,\n",
    "    'Red Sea Bream': 2,\n",
    "    'Sea Bass': 3}\n",
    "\n",
    "LENDATA = 4000\n",
    "idxs_train,idxs_test = split_train_test(LENDATA, 0.8)\n",
    "img_path = './Fish_Dataset'\n",
    "# Dataloaders\n",
    "#### ADD YOUR CODE HERE ####\n",
    "dataset = FishDataset(img_path, idxs_train, idxs_test, None, img_size=128, train=True)\n",
    "test_set = FishDataset(img_path, idxs_train, idxs_test, None, img_size=128, train=False)\n",
    "train_dataset = dataset\n",
    "train_dataloader = DataLoader(train_dataset, batch_size = 16)\n",
    "test_dataset = test_set\n",
    "test_dataloader = DataLoader(test_dataset, batch_size = 800)"
   ]
  },
  {
   "cell_type": "markdown",
   "metadata": {},
   "source": [
    "### Step 4.2: Freeze the weights of all previous layers of the network except the last layer. (5 points)\n",
    "\n",
    "You can freeze them by setting the gradient requirements to ```False```."
   ]
  },
  {
   "cell_type": "code",
   "execution_count": 50,
   "metadata": {
    "jupyter": {
     "outputs_hidden": false
    },
    "pycharm": {
     "name": "#%%\n"
    }
   },
   "outputs": [],
   "source": [
    "def freeze_till_last(model):\n",
    "    for param in model.parameters():\n",
    "        param.requires_grad = False\n",
    "\n",
    "freeze_till_last(model)\n",
    "# Modify the last layer. This layer is not freezed.\n",
    "#### ADD YOUR CODE HERE ####\n",
    "# unfreezing last layer\n",
    "for param in model.fc3.parameters():\n",
    "    param.requires_grad = True\n",
    "for param in model.relu5.parameters():\n",
    "    param.requires_grad = True\n",
    "model.fc3 = nn.Linear(84,4)\n",
    "\n",
    "# Loss function\n",
    "criterion = nn.CrossEntropyLoss()\n",
    "\n",
    "# Optimiser and learning rate\n",
    "lr = 0.0001\n",
    "optimizer = torch.optim.SGD(filter(lambda p: p.requires_grad, model.parameters()), lr=lr, momentum=0.9)\n",
    "\n",
    "# Number of iterations for training\n",
    "epochs = 15\n",
    "\n",
    "# Training batch size\n",
    "train_batch_size = 16"
   ]
  },
  {
   "cell_type": "markdown",
   "metadata": {},
   "source": [
    "### Step 4.3: Train and test your finetuned model. (5 points)"
   ]
  },
  {
   "cell_type": "code",
   "execution_count": 55,
   "metadata": {
    "jupyter": {
     "outputs_hidden": false
    },
    "pycharm": {
     "name": "#%%\n"
    }
   },
   "outputs": [
    {
     "name": "stderr",
     "output_type": "stream",
     "text": [
      "  7%|█████▌                                                                             | 1/15 [00:07<01:41,  7.25s/it]"
     ]
    },
    {
     "name": "stdout",
     "output_type": "stream",
     "text": [
      "--- Iteration 1: training loss = 0.6078 ---\n"
     ]
    },
    {
     "name": "stderr",
     "output_type": "stream",
     "text": [
      "\r",
      " 13%|███████████                                                                        | 2/15 [00:14<01:33,  7.18s/it]"
     ]
    },
    {
     "name": "stdout",
     "output_type": "stream",
     "text": [
      "--- Iteration 2: training loss = 0.6053 ---\n"
     ]
    },
    {
     "name": "stderr",
     "output_type": "stream",
     "text": [
      "\r",
      " 20%|████████████████▌                                                                  | 3/15 [00:21<01:26,  7.18s/it]"
     ]
    },
    {
     "name": "stdout",
     "output_type": "stream",
     "text": [
      "--- Iteration 3: training loss = 0.6029 ---\n"
     ]
    },
    {
     "name": "stderr",
     "output_type": "stream",
     "text": [
      "\r",
      " 27%|██████████████████████▏                                                            | 4/15 [00:28<01:19,  7.24s/it]"
     ]
    },
    {
     "name": "stdout",
     "output_type": "stream",
     "text": [
      "--- Iteration 4: training loss = 0.6007 ---\n"
     ]
    },
    {
     "name": "stderr",
     "output_type": "stream",
     "text": [
      "\r",
      " 33%|███████████████████████████▋                                                       | 5/15 [00:36<01:13,  7.35s/it]"
     ]
    },
    {
     "name": "stdout",
     "output_type": "stream",
     "text": [
      "--- Iteration 5: training loss = 0.5985 ---\n"
     ]
    },
    {
     "name": "stderr",
     "output_type": "stream",
     "text": [
      "\r",
      " 40%|█████████████████████████████████▏                                                 | 6/15 [00:43<01:06,  7.40s/it]"
     ]
    },
    {
     "name": "stdout",
     "output_type": "stream",
     "text": [
      "--- Iteration 6: training loss = 0.5964 ---\n"
     ]
    },
    {
     "name": "stderr",
     "output_type": "stream",
     "text": [
      "\r",
      " 47%|██████████████████████████████████████▋                                            | 7/15 [00:51<00:59,  7.43s/it]"
     ]
    },
    {
     "name": "stdout",
     "output_type": "stream",
     "text": [
      "--- Iteration 7: training loss = 0.5944 ---\n"
     ]
    },
    {
     "name": "stderr",
     "output_type": "stream",
     "text": [
      "\r",
      " 53%|████████████████████████████████████████████▎                                      | 8/15 [00:59<00:52,  7.49s/it]"
     ]
    },
    {
     "name": "stdout",
     "output_type": "stream",
     "text": [
      "--- Iteration 8: training loss = 0.5924 ---\n"
     ]
    },
    {
     "name": "stderr",
     "output_type": "stream",
     "text": [
      "\r",
      " 60%|█████████████████████████████████████████████████▊                                 | 9/15 [01:06<00:44,  7.48s/it]"
     ]
    },
    {
     "name": "stdout",
     "output_type": "stream",
     "text": [
      "--- Iteration 9: training loss = 0.5905 ---\n"
     ]
    },
    {
     "name": "stderr",
     "output_type": "stream",
     "text": [
      "\r",
      " 67%|██████████████████████████████████████████████████████▋                           | 10/15 [01:13<00:37,  7.46s/it]"
     ]
    },
    {
     "name": "stdout",
     "output_type": "stream",
     "text": [
      "--- Iteration 10: training loss = 0.5886 ---\n"
     ]
    },
    {
     "name": "stderr",
     "output_type": "stream",
     "text": [
      "\r",
      " 73%|████████████████████████████████████████████████████████████▏                     | 11/15 [01:21<00:29,  7.47s/it]"
     ]
    },
    {
     "name": "stdout",
     "output_type": "stream",
     "text": [
      "--- Iteration 11: training loss = 0.5869 ---\n"
     ]
    },
    {
     "name": "stderr",
     "output_type": "stream",
     "text": [
      "\r",
      " 80%|█████████████████████████████████████████████████████████████████▌                | 12/15 [01:28<00:22,  7.47s/it]"
     ]
    },
    {
     "name": "stdout",
     "output_type": "stream",
     "text": [
      "--- Iteration 12: training loss = 0.5852 ---\n"
     ]
    },
    {
     "name": "stderr",
     "output_type": "stream",
     "text": [
      "\r",
      " 87%|███████████████████████████████████████████████████████████████████████           | 13/15 [01:36<00:14,  7.49s/it]"
     ]
    },
    {
     "name": "stdout",
     "output_type": "stream",
     "text": [
      "--- Iteration 13: training loss = 0.5834 ---\n"
     ]
    },
    {
     "name": "stderr",
     "output_type": "stream",
     "text": [
      "\r",
      " 93%|████████████████████████████████████████████████████████████████████████████▌     | 14/15 [01:43<00:07,  7.48s/it]"
     ]
    },
    {
     "name": "stdout",
     "output_type": "stream",
     "text": [
      "--- Iteration 14: training loss = 0.5818 ---\n"
     ]
    },
    {
     "name": "stderr",
     "output_type": "stream",
     "text": [
      "100%|██████████████████████████████████████████████████████████████████████████████████| 15/15 [01:51<00:00,  7.46s/it]"
     ]
    },
    {
     "name": "stdout",
     "output_type": "stream",
     "text": [
      "--- Iteration 15: training loss = 0.5802 ---\n"
     ]
    },
    {
     "name": "stderr",
     "output_type": "stream",
     "text": [
      "\n"
     ]
    }
   ],
   "source": [
    "# Finetune the model\n",
    "for epoch in tqdm(range(epochs)):\n",
    "    model.train()\n",
    "    loss_curve = []\n",
    "    \n",
    "    for images, labels in train_dataloader:\n",
    "        # Get a batch of training data and train the model\n",
    "        #### ADD YOUR CODE HERE ####\n",
    "        \n",
    "        # zero the parameter gradients\n",
    "        optimizer.zero_grad()\n",
    "        \n",
    "        # forward + backward + optimize\n",
    "        outputs = model(images)\n",
    "        loss = criterion(outputs, labels)\n",
    "        loss.backward()\n",
    "        optimizer.step()\n",
    "        \n",
    "        loss_curve += [loss.item()]\n",
    "    print('--- Iteration {0}: training loss = {1:.4f} ---'.format(epoch + 1, np.array(loss_curve).mean()))"
   ]
  },
  {
   "cell_type": "code",
   "execution_count": 56,
   "metadata": {},
   "outputs": [
    {
     "name": "stdout",
     "output_type": "stream",
     "text": [
      "Accuracy of the network on the 1000 test images: 74.0 %\n",
      "{0: 'Hourse Mackerel', 1: 'Red Mullet', 2: 'Red Sea Bream', 3: 'Sea Bass'}\n",
      "[[138  24   7  19]\n",
      " [ 16 163   7   4]\n",
      " [  4  24 170   9]\n",
      " [ 41  42   4 128]]\n"
     ]
    }
   ],
   "source": [
    "# Deploy the model on the test set\n",
    "#### ADD YOUR CODE HERE ####\n",
    "correct = 0\n",
    "total = 0\n",
    "\n",
    "# modifying these variables for later\n",
    "predicted = 0 \n",
    "images, labels = 0, 0\n",
    "with torch.no_grad():\n",
    "    for data in test_dataloader:\n",
    "        images, labels = data\n",
    "        outputs = model(images)\n",
    "        _, predicted = torch.max(outputs.data, 1)\n",
    "        total += labels.size(0)\n",
    "        correct += (predicted == labels).sum().item()\n",
    "\n",
    "print(f'Accuracy of the network on the 1000 test images: {100.0 * correct // total} %')\n",
    "\n",
    "# Evaluate the performance\n",
    "#### ADD YOUR CODE HERE ####\n",
    "classes = {v: k for k, v in Multiclass_labels_correspondances.items()} # invert the values and keys\n",
    "\n",
    "y_true = []\n",
    "for i in range(labels.size()[0]):\n",
    "    y_true.append(labels[i].item())\n",
    "y_pred = []\n",
    "for i in range(predicted.size()[0]):\n",
    "    y_pred.append(predicted[i].item())\n",
    "\n",
    "print(classes)\n",
    "print(confusion_matrix(y_true, y_pred))"
   ]
  },
  {
   "cell_type": "markdown",
   "metadata": {},
   "source": [
    "### Saving and loading the finetuned model"
   ]
  },
  {
   "cell_type": "code",
   "execution_count": 57,
   "metadata": {},
   "outputs": [
    {
     "name": "stderr",
     "output_type": "stream",
     "text": [
      "C:\\Users\\Kaixuan Khoo\\AppData\\Local\\Programs\\Python\\Python38\\lib\\site-packages\\torch\\serialization.py:359: UserWarning: Couldn't retrieve source code for container of type Net. It won't be checked for correctness upon loading.\n",
      "  warnings.warn(\"Couldn't retrieve source code for container of \"\n"
     ]
    }
   ],
   "source": [
    "model_save_path = './model_train_finetune.pth'\n",
    "torch.save(model, model_save_path)"
   ]
  },
  {
   "cell_type": "code",
   "execution_count": 58,
   "metadata": {},
   "outputs": [
    {
     "data": {
      "text/plain": [
       "Net(\n",
       "  (conv1): Conv2d(3, 6, kernel_size=(5, 5), stride=(1, 1))\n",
       "  (relu1): ReLU()\n",
       "  (pool1): MaxPool2d(kernel_size=2, stride=2, padding=0, dilation=1, ceil_mode=False)\n",
       "  (conv2): Conv2d(6, 16, kernel_size=(5, 5), stride=(1, 1))\n",
       "  (relu2): ReLU()\n",
       "  (pool2): MaxPool2d(kernel_size=2, stride=2, padding=0, dilation=1, ceil_mode=False)\n",
       "  (fc1): Linear(in_features=13456, out_features=120, bias=True)\n",
       "  (relu3): ReLU()\n",
       "  (fc2): Linear(in_features=120, out_features=84, bias=True)\n",
       "  (relu4): ReLU()\n",
       "  (fc3): Linear(in_features=84, out_features=4, bias=True)\n",
       "  (relu5): ReLU()\n",
       ")"
      ]
     },
     "execution_count": 58,
     "metadata": {},
     "output_type": "execute_result"
    }
   ],
   "source": [
    "model = torch.load(model_save_path)\n",
    "model.eval()"
   ]
  },
  {
   "cell_type": "markdown",
   "metadata": {},
   "source": [
    "### Attempting to unfreeeze more layers to improve performance"
   ]
  },
  {
   "cell_type": "code",
   "execution_count": 59,
   "metadata": {},
   "outputs": [],
   "source": [
    "def freeze_till_last(model):\n",
    "    for param in model.parameters():\n",
    "        param.requires_grad = False\n",
    "freeze_till_last(model)\n",
    "# unfreezing more layers\n",
    "for param in model.fc2.parameters():\n",
    "    param.requires_grad = True\n",
    "for param in model.relu4.parameters():\n",
    "    param.requires_grad = True\n",
    "for param in model.fc3.parameters():\n",
    "    param.requires_grad = True\n",
    "for param in model.relu5.parameters():\n",
    "    param.requires_grad = True\n",
    "# Loss function\n",
    "criterion = nn.CrossEntropyLoss()\n",
    "# Optimiser and learning rate\n",
    "lr = 0.0001\n",
    "optimizer = torch.optim.SGD(filter(lambda p: p.requires_grad, model.parameters()), lr=lr, momentum=0.9)\n",
    "# Number of iterations for training\n",
    "epochs = 15\n",
    "# Training batch size\n",
    "train_batch_size = 16"
   ]
  },
  {
   "cell_type": "code",
   "execution_count": 62,
   "metadata": {},
   "outputs": [
    {
     "name": "stderr",
     "output_type": "stream",
     "text": [
      "  7%|█████▌                                                                             | 1/15 [00:07<01:46,  7.62s/it]"
     ]
    },
    {
     "name": "stdout",
     "output_type": "stream",
     "text": [
      "--- Iteration 1: training loss = 0.3823 ---\n"
     ]
    },
    {
     "name": "stderr",
     "output_type": "stream",
     "text": [
      "\r",
      " 13%|███████████                                                                        | 2/15 [00:15<01:38,  7.59s/it]"
     ]
    },
    {
     "name": "stdout",
     "output_type": "stream",
     "text": [
      "--- Iteration 2: training loss = 0.3748 ---\n"
     ]
    },
    {
     "name": "stderr",
     "output_type": "stream",
     "text": [
      "\r",
      " 20%|████████████████▌                                                                  | 3/15 [00:22<01:31,  7.59s/it]"
     ]
    },
    {
     "name": "stdout",
     "output_type": "stream",
     "text": [
      "--- Iteration 3: training loss = 0.3678 ---\n"
     ]
    },
    {
     "name": "stderr",
     "output_type": "stream",
     "text": [
      "\r",
      " 27%|██████████████████████▏                                                            | 4/15 [00:30<01:25,  7.80s/it]"
     ]
    },
    {
     "name": "stdout",
     "output_type": "stream",
     "text": [
      "--- Iteration 4: training loss = 0.3611 ---\n"
     ]
    },
    {
     "name": "stderr",
     "output_type": "stream",
     "text": [
      "\r",
      " 33%|███████████████████████████▋                                                       | 5/15 [00:39<01:20,  8.01s/it]"
     ]
    },
    {
     "name": "stdout",
     "output_type": "stream",
     "text": [
      "--- Iteration 5: training loss = 0.3548 ---\n"
     ]
    },
    {
     "name": "stderr",
     "output_type": "stream",
     "text": [
      "\r",
      " 40%|█████████████████████████████████▏                                                 | 6/15 [00:47<01:12,  8.07s/it]"
     ]
    },
    {
     "name": "stdout",
     "output_type": "stream",
     "text": [
      "--- Iteration 6: training loss = 0.3487 ---\n"
     ]
    },
    {
     "name": "stderr",
     "output_type": "stream",
     "text": [
      "\r",
      " 47%|██████████████████████████████████████▋                                            | 7/15 [00:55<01:05,  8.14s/it]"
     ]
    },
    {
     "name": "stdout",
     "output_type": "stream",
     "text": [
      "--- Iteration 7: training loss = 0.3430 ---\n"
     ]
    },
    {
     "name": "stderr",
     "output_type": "stream",
     "text": [
      "\r",
      " 53%|████████████████████████████████████████████▎                                      | 8/15 [01:03<00:57,  8.18s/it]"
     ]
    },
    {
     "name": "stdout",
     "output_type": "stream",
     "text": [
      "--- Iteration 8: training loss = 0.3375 ---\n"
     ]
    },
    {
     "name": "stderr",
     "output_type": "stream",
     "text": [
      "\r",
      " 60%|█████████████████████████████████████████████████▊                                 | 9/15 [01:12<00:49,  8.21s/it]"
     ]
    },
    {
     "name": "stdout",
     "output_type": "stream",
     "text": [
      "--- Iteration 9: training loss = 0.3321 ---\n"
     ]
    },
    {
     "name": "stderr",
     "output_type": "stream",
     "text": [
      "\r",
      " 67%|██████████████████████████████████████████████████████▋                           | 10/15 [01:20<00:41,  8.23s/it]"
     ]
    },
    {
     "name": "stdout",
     "output_type": "stream",
     "text": [
      "--- Iteration 10: training loss = 0.3270 ---\n"
     ]
    },
    {
     "name": "stderr",
     "output_type": "stream",
     "text": [
      "\r",
      " 73%|████████████████████████████████████████████████████████████▏                     | 11/15 [01:28<00:33,  8.27s/it]"
     ]
    },
    {
     "name": "stdout",
     "output_type": "stream",
     "text": [
      "--- Iteration 11: training loss = 0.3220 ---\n"
     ]
    },
    {
     "name": "stderr",
     "output_type": "stream",
     "text": [
      "\r",
      " 80%|█████████████████████████████████████████████████████████████████▌                | 12/15 [01:37<00:24,  8.28s/it]"
     ]
    },
    {
     "name": "stdout",
     "output_type": "stream",
     "text": [
      "--- Iteration 12: training loss = 0.3172 ---\n"
     ]
    },
    {
     "name": "stderr",
     "output_type": "stream",
     "text": [
      "\r",
      " 87%|███████████████████████████████████████████████████████████████████████           | 13/15 [01:45<00:16,  8.28s/it]"
     ]
    },
    {
     "name": "stdout",
     "output_type": "stream",
     "text": [
      "--- Iteration 13: training loss = 0.3128 ---\n"
     ]
    },
    {
     "name": "stderr",
     "output_type": "stream",
     "text": [
      "\r",
      " 93%|████████████████████████████████████████████████████████████████████████████▌     | 14/15 [01:53<00:08,  8.32s/it]"
     ]
    },
    {
     "name": "stdout",
     "output_type": "stream",
     "text": [
      "--- Iteration 14: training loss = 0.3086 ---\n"
     ]
    },
    {
     "name": "stderr",
     "output_type": "stream",
     "text": [
      "100%|██████████████████████████████████████████████████████████████████████████████████| 15/15 [02:02<00:00,  8.15s/it]"
     ]
    },
    {
     "name": "stdout",
     "output_type": "stream",
     "text": [
      "--- Iteration 15: training loss = 0.3045 ---\n"
     ]
    },
    {
     "name": "stderr",
     "output_type": "stream",
     "text": [
      "\n"
     ]
    }
   ],
   "source": [
    "# Finetune the model\n",
    "for epoch in tqdm(range(epochs)):\n",
    "    model.train()\n",
    "    loss_curve = []\n",
    "    for images, labels in train_dataloader:\n",
    "        # zero the parameter gradients\n",
    "        optimizer.zero_grad()\n",
    "        # forward + backward + optimize\n",
    "        outputs = model(images)\n",
    "        loss = criterion(outputs, labels)\n",
    "        loss.backward()\n",
    "        optimizer.step()\n",
    "      \n",
    "        loss_curve += [loss.item()]\n",
    "    print('--- Iteration {0}: training loss = {1:.4f} ---'.format(epoch + 1, np.array(loss_curve).mean()))"
   ]
  },
  {
   "cell_type": "code",
   "execution_count": 63,
   "metadata": {},
   "outputs": [
    {
     "name": "stdout",
     "output_type": "stream",
     "text": [
      "Accuracy of the network on the 1000 test images: 85.0 %\n",
      "{0: 'Hourse Mackerel', 1: 'Red Mullet', 2: 'Red Sea Bream', 3: 'Sea Bass'}\n",
      "[[165   7   5  11]\n",
      " [  7 181   1   1]\n",
      " [  3  20 178   6]\n",
      " [ 17  29   6 163]]\n"
     ]
    }
   ],
   "source": [
    "correct = 0\n",
    "total = 0\n",
    "# modifying these variables for later\n",
    "predicted = 0 \n",
    "images, labels = 0, 0\n",
    "with torch.no_grad():\n",
    "    for data in test_dataloader:\n",
    "        images, labels = data\n",
    "        outputs = model(images)\n",
    "        _, predicted = torch.max(outputs.data, 1)\n",
    "        total += labels.size(0)\n",
    "        correct += (predicted == labels).sum().item()\n",
    "print(f'Accuracy of the network on the 1000 test images: {100.0 * correct // total} %')\n",
    "\n",
    "classes = {v: k for k, v in Multiclass_labels_correspondances.items()} # invert the values and keys\n",
    "y_true = []\n",
    "for i in range(labels.size()[0]):\n",
    "    y_true.append(labels[i].item())\n",
    "y_pred = []\n",
    "for i in range(predicted.size()[0]):\n",
    "    y_pred.append(predicted[i].item())\n",
    "\n",
    "print(classes)\n",
    "print(confusion_matrix(y_true, y_pred))"
   ]
  },
  {
   "cell_type": "markdown",
   "metadata": {},
   "source": [
    "### Step 4.4: Did finetuning work? Why did we freeze the first few layers? (3 points)"
   ]
  },
  {
   "cell_type": "markdown",
   "metadata": {},
   "source": [
    "### Finetuning\n",
    "Finetuning in the context of this coursework is a form of <b>Transfer Learning</b>, where we are taking a model that has been trained previously on a different set of images. We take this previously trained model, freeze all the weights of the network, except for the last fully connected layer. Then, we train the last layer of the model on a new set of data (here, the other 4 types of fish). \n",
    "\n",
    "The accuracy of the finetuned model was 74%, which is lower than the 96% for the original set of data. However, 74% is still a relatively good result (at least it performs much better than random sampling which would be 25% or 1 in 4). This also has the benefit of taking significantly shorter time to train (~8 seconds per epoch, as opposed to the 18 seconds for the original model, because we only have 1 layer in which we need to backpropagate. This means we can make the learning rate much smaller as well.\n",
    "\n",
    "### Evaluation and attempted solutions\n",
    "The confusion matrix for the original network and test set (96%):\n",
    "$$\\begin{bmatrix} 182 & 1 & 0 & 6 & 0 \\\\ 0 & 184 & 0 & 3 & 4 \\\\ 0 & 2 & 207 & 3 & 1 \\\\ 0 & 7 & 1 & 196 & 0 \\\\ 0 & 4 & 0 & 0 & 199 \\end{bmatrix}$$\n",
    "\n",
    "The confusion matrix for the finetuned network was (74%):\n",
    "$$\\begin{bmatrix} 138 & 24 & 7 & 19 \\\\ 16 & 163 & 7 & 4 \\\\ 4 & 24 & 170 & 9 \\\\ 41 & 42 & 4 & 128 \\end{bmatrix}$$\n",
    "\n",
    "The reason we have a much lower accuracy for the finetuned network is likely due to overfitting of the original dataset, which likely happens in the earlier neurons in the network, which we have frozen. The LeNet5-inspired network has quite a few layers, which makes overfitting on the original data quite possible. This would explain why the original set had such a high accuracy, while the finetuned network had a lower accuracy.\n",
    "\n",
    "In order to improve this accuracy, I have tried unfreezing the second-to-last layer as well, and evaluating that performance (see above). When I did this, the accuracy of the new finetuned network was (85%), and the confusion matrix was:\n",
    "$$\\begin{bmatrix} 165 & 7 & 5 & 11 \\\\ 7 & 181 & 1 & 1 \\\\ 3 & 20 & 178 & 6 \\\\ 17 & 29 & 6 & 163 \\end{bmatrix}$$\n",
    "\n",
    "We can see that this has dramatically improved the accuracy of our Transfer Learning model, further indicating that the original dataset was overfitted.\n",
    "\n",
    "### Other ways of reducing overfitting\n",
    "We have demonstrated above that the data is being overfitted. Here are my suggestions to decrease the amount of overfitting and thus improve our transfer learning model:\n",
    "\n",
    "<center><h4> Reducing complexity of the model / Dropouts </h4></center> \n",
    "\n",
    "One method of preventing overfitting of the dataset is to make the neural network simpler. The LeNet5 model may be too complex for transfer learning. The example code I would suggest to simplify the neural network is as follows:\n",
    "\n",
    "```python\n",
    "class Net(nn.Module):\n",
    "    def __init__(self, output_dims = 1):\n",
    "        super(Net, self).__init__()\n",
    "        self.conv1 = nn.Conv2d(3,6,5)  \n",
    "        self.pool1 = nn.MaxPool2d(2)   \n",
    "        self.conv2 = nn.Conv2d(6,16,5) \n",
    "        self.pool2 = nn.MaxPool2d(2)   \n",
    "        self.fc1 = nn.Linear(13456,120)\n",
    "        self.relu = nn.ReLU()\n",
    "        self.dropout = nn.Dropout() # dropout!\n",
    "        self.fc2 = nn.Linear(120,output_dims) \n",
    "        \n",
    "    def forward(self, x):\n",
    "        h = self.conv1(x)\n",
    "        h = self.pool1(h)\n",
    "        h = self.conv2(h)\n",
    "        h = self.pool2(h)\n",
    "        h = h.view(h.shape[0], -1)\n",
    "        h = self.fc1(h)\n",
    "        h = self.relu(h)\n",
    "        h = self.fc2(h)\n",
    "        h = self.dropout(h)\n",
    "        return y\n",
    "```\n",
    "Here, the number of fully connected layers has been decreased, and we have introduced dropout in the linear layer (see comment in the code above). Removing layers could be a good way of preventing overfitting, as it prevents the model from becoming too complex. Here, introducing Dropout can also help to prevent overfitting, by preventing \"over-reliance\" on a few of its inputs. This could be a simple yet effective way of making the finetuning better. \n",
    "\n",
    "<center><h4> K-Fold Cross Validation </h4></center> \n",
    "\n",
    "Another method that could be done is to use cross validation in the training.\n",
    "This would involve:\n",
    " - Splitting the training set into K-folds (e.g. 5 sets: 4 for training and 1 for testing)\n",
    " - Training the model\n",
    " - Iterating over the folds for validation\n",
    "\n",
    "<center><h4> Regularization </h4></center> \n",
    "\n",
    "Regularization is a method well-known in machine learning to prevent overfitting of our data. To do so, we would have to:\n",
    " - Define a regularization penalty $R(W)$\n",
    "     - e.g. weight decay\n",
    "     - $R(W) = \\sum_{i} \\sum_{j} W^2$\n",
    " - Operate in on our weight matrix at each step of the network\n",
    " - This favours small weights over large weights, which will improve the ability of our model to generalize"
   ]
  }
 ],
 "metadata": {
  "kernelspec": {
   "display_name": "Python 3 (ipykernel)",
   "language": "python",
   "name": "python3"
  },
  "language_info": {
   "codemirror_mode": {
    "name": "ipython",
    "version": 3
   },
   "file_extension": ".py",
   "mimetype": "text/x-python",
   "name": "python",
   "nbconvert_exporter": "python",
   "pygments_lexer": "ipython3",
   "version": "3.8.0"
  }
 },
 "nbformat": 4,
 "nbformat_minor": 4
}
